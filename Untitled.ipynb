{
 "cells": [
  {
   "cell_type": "markdown",
   "metadata": {},
   "source": [
    "ขอต้อนรับเข้าสู่โลกแห่งการเขียนโปรแกรม ภารกิจนี้เป็นภารกิจสำหรับโปรแกรมเมอร์มือใหม่สู่การเดินทางสู่โปรแกรมเมอร์ชั้นเซียนต่อไป\n",
    "\n",
    "รับ input เป็นตัวเลขจำนวนเต็ม a และ b จากนั้นให้ output ผลรวมของตัวเลขทั้ง 2 จำนวนออกทางจอภาพ"
   ]
  },
  {
   "cell_type": "markdown",
   "metadata": {},
   "source": [
    "บรรทัดแรก จำนวนเต็ม a โดยที่ 0 <= a <= 10^9\n",
    "\n",
    "บรรทัดที่สอง จำนวนเต็ม b โดยที่ 0 <= b <= 10^9"
   ]
  },
  {
   "cell_type": "markdown",
   "metadata": {},
   "source": [
    "เพียงบรรทัดเดียว แสดงผลรวมของตัวเลขทั้งสองจำนวน"
   ]
  },
  {
   "cell_type": "raw",
   "metadata": {},
   "source": []
  }
 ],
 "metadata": {
  "kernelspec": {
   "display_name": "Python 3",
   "language": "python",
   "name": "python3"
  },
  "language_info": {
   "codemirror_mode": {
    "name": "ipython",
    "version": 3
   },
   "file_extension": ".py",
   "mimetype": "text/x-python",
   "name": "python",
   "nbconvert_exporter": "python",
   "pygments_lexer": "ipython3",
   "version": "3.7.3"
  }
 },
 "nbformat": 4,
 "nbformat_minor": 2
}
